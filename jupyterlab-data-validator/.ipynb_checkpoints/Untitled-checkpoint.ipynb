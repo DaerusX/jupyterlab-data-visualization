{
 "cells": [
  {
   "cell_type": "code",
   "execution_count": 9,
   "metadata": {},
   "outputs": [
    {
     "ename": "ModuleNotFoundError",
     "evalue": "No module named 'data_validator_pkg'",
     "output_type": "error",
     "traceback": [
      "\u001b[0;31m---------------------------------------------------------------------------\u001b[0m",
      "\u001b[0;31mModuleNotFoundError\u001b[0m                       Traceback (most recent call last)",
      "\u001b[0;32m<ipython-input-9-64b34a86eafd>\u001b[0m in \u001b[0;36m<module>\u001b[0;34m\u001b[0m\n\u001b[1;32m      1\u001b[0m \u001b[0;31m# 导入数据集\u001b[0m\u001b[0;34m\u001b[0m\u001b[0;34m\u001b[0m\u001b[0;34m\u001b[0m\u001b[0m\n\u001b[1;32m      2\u001b[0m \u001b[0;31m# 数据集 -> 右边图标点击 -> 插入代码\u001b[0m\u001b[0;34m\u001b[0m\u001b[0;34m\u001b[0m\u001b[0;34m\u001b[0m\u001b[0m\n\u001b[0;32m----> 3\u001b[0;31m \u001b[0;32mfrom\u001b[0m \u001b[0mdata_validator_pkg\u001b[0m\u001b[0;34m.\u001b[0m\u001b[0mdataV\u001b[0m \u001b[0;32mimport\u001b[0m \u001b[0mtransform\u001b[0m\u001b[0;34m\u001b[0m\u001b[0;34m\u001b[0m\u001b[0m\n\u001b[0m",
      "\u001b[0;31mModuleNotFoundError\u001b[0m: No module named 'data_validator_pkg'"
     ]
    }
   ],
   "source": [
    "# 导入数据集\n",
    "# 数据集 -> 右边图标点击 -> 插入代码\n",
    "from data_validator_pkg.dataV import transform "
   ]
  },
  {
   "cell_type": "code",
   "execution_count": 8,
   "metadata": {},
   "outputs": [],
   "source": [
    "import pandas as pd\n",
    "\n",
    "df =  pd.DataFrame({'num' : [1, 2, 2, 3] , 'str' : ['a', 'a', 'b', None]})\n",
    "df2 =  pd.DataFrame({'num' : [2, 3, 3, 4] , 'str' : ['a', 'a', 'b', None]})"
   ]
  },
  {
   "cell_type": "code",
   "execution_count": 11,
   "metadata": {},
   "outputs": [
    {
     "data": {
      "application/vnd.datav.v1+json": {
       "data": {
        "values": {
         "protostr": "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"
        }
       },
       "description": "A simple bar chart with embedded data."
      }
     },
     "metadata": {},
     "output_type": "display_data"
    }
   ],
   "source": [
    "transform([{'name': 'test', 'table': df}, {'name': 'test2', 'table': df2}])"
   ]
  },
  {
   "cell_type": "code",
   "execution_count": 4,
   "metadata": {},
   "outputs": [
    {
     "ename": "ModuleNotFoundError",
     "evalue": "No module named 'DataVisualization'",
     "output_type": "error",
     "traceback": [
      "\u001b[0;31m---------------------------------------------------------------------------\u001b[0m",
      "\u001b[0;31mModuleNotFoundError\u001b[0m                       Traceback (most recent call last)",
      "\u001b[0;32m<ipython-input-4-22a314a60dbd>\u001b[0m in \u001b[0;36m<module>\u001b[0;34m\u001b[0m\n\u001b[0;32m----> 1\u001b[0;31m \u001b[0;32mfrom\u001b[0m \u001b[0mDataVisualization\u001b[0m\u001b[0;34m.\u001b[0m\u001b[0msrc\u001b[0m\u001b[0;34m.\u001b[0m\u001b[0mdata_visualization\u001b[0m \u001b[0;32mimport\u001b[0m \u001b[0mdata_visualize\u001b[0m\u001b[0;34m\u001b[0m\u001b[0;34m\u001b[0m\u001b[0m\n\u001b[0m",
      "\u001b[0;31mModuleNotFoundError\u001b[0m: No module named 'DataVisualization'"
     ]
    }
   ],
   "source": [
    "from DataVisualization.src.data_visualization import data_visualize"
   ]
  },
  {
   "cell_type": "code",
   "execution_count": 8,
   "metadata": {},
   "outputs": [
    {
     "name": "stdout",
     "output_type": "stream",
     "text": [
      "Package                Version              Location                                                   \n",
      "---------------------- -------------------- -----------------------------------------------------------\n",
      "alembic                1.4.3                \n",
      "async-generator        1.10                 \n",
      "attrs                  19.3.0               \n",
      "Automat                0.8.0                \n",
      "backcall               0.2.0                \n",
      "bleach                 3.2.1                \n",
      "blinker                1.4                  \n",
      "certifi                2019.11.28           \n",
      "certipy                0.1.3                \n",
      "chardet                3.0.4                \n",
      "cliapp                 1.20180812.1         \n",
      "Click                  7.0                  \n",
      "cloud-init             20.2                 \n",
      "cmdtest                0.32+git             \n",
      "colorama               0.4.3                \n",
      "command-not-found      0.3                  \n",
      "configobj              5.0.6                \n",
      "constantly             15.1.0               \n",
      "cryptography           2.8                  \n",
      "dbus-python            1.2.16               \n",
      "decorator              4.4.2                \n",
      "defusedxml             0.6.0                \n",
      "distro                 1.4.0                \n",
      "distro-info            0.23ubuntu1          \n",
      "entrypoints            0.3                  \n",
      "httplib2               0.14.0               \n",
      "hyperlink              19.0.0               \n",
      "idna                   2.8                  \n",
      "importlib-metadata     1.5.0                \n",
      "incremental            16.10.1              \n",
      "ipykernel              5.4.2                \n",
      "ipython                7.19.0               \n",
      "ipython-genutils       0.2.0                \n",
      "jedi                   0.18.0               \n",
      "Jinja2                 2.10.1               \n",
      "json5                  0.9.5                \n",
      "jsonpatch              1.22                 \n",
      "jsonpointer            2.0                  \n",
      "jsonschema             3.2.0                \n",
      "jupyter-client         6.1.7                \n",
      "jupyter-core           4.7.0                \n",
      "jupyter-telemetry      0.1.0                \n",
      "jupyterhub             1.0.2a101            /mnt/c/Users/Administrator/PycharmProjects/dataV/jupyterhub\n",
      "jupyterlab             2.1.0a101            /mnt/c/Users/Administrator/PycharmProjects/dataV/jupyterlab\n",
      "jupyterlab-pygments    0.1.2                \n",
      "jupyterlab-server      1.2.0                \n",
      "keyring                18.0.1               \n",
      "language-selector      0.1                  \n",
      "launchpadlib           1.10.13              \n",
      "lazr.restfulclient     0.14.2               \n",
      "lazr.uri               1.0.3                \n",
      "Mako                   1.1.3                \n",
      "Markdown               3.1.1                \n",
      "MarkupSafe             1.1.0                \n",
      "mistune                0.8.4                \n",
      "more-itertools         4.2.0                \n",
      "nbclient               0.5.1                \n",
      "nbconvert              6.0.7                \n",
      "nbformat               5.0.8                \n",
      "nest-asyncio           1.4.3                \n",
      "netifaces              0.10.4               \n",
      "notebook               6.0.2a101            /mnt/c/Users/Administrator/PycharmProjects/dataV/notebook  \n",
      "numpy                  1.19.5               \n",
      "oauthlib               3.1.0                \n",
      "packaging              20.8                 \n",
      "pamela                 1.0.0                \n",
      "pandas                 1.2.0                \n",
      "pandocfilters          1.4.3                \n",
      "parso                  0.8.1                \n",
      "pexpect                4.8.0                \n",
      "pickleshare            0.7.5                \n",
      "pip                    20.0.2               \n",
      "prometheus-client      0.9.0                \n",
      "prompt-toolkit         3.0.8                \n",
      "protobuf               3.14.0               \n",
      "ptyprocess             0.7.0                \n",
      "pyasn1                 0.4.2                \n",
      "pyasn1-modules         0.2.1                \n",
      "Pygments               2.7.3                \n",
      "PyGObject              3.36.0               \n",
      "PyHamcrest             1.9.0                \n",
      "PyJWT                  1.7.1                \n",
      "pymacaroons            0.13.0               \n",
      "PyNaCl                 1.3.0                \n",
      "pyOpenSSL              19.0.0               \n",
      "pyparsing              2.4.7                \n",
      "pyrsistent             0.15.5               \n",
      "pyserial               3.4                  \n",
      "python-apt             2.0.0+ubuntu0.20.4.1 \n",
      "python-dateutil        2.8.1                \n",
      "python-debian          0.1.36ubuntu1        \n",
      "python-editor          1.0.4                \n",
      "python-json-logger     2.0.1                \n",
      "pytz                   2020.5               \n",
      "PyYAML                 5.3.1                \n",
      "pyzmq                  20.0.0               \n",
      "requests               2.22.0               \n",
      "requests-unixsocket    0.2.0                \n",
      "ruamel.yaml            0.16.12              \n",
      "ruamel.yaml.clib       0.2.2                \n",
      "SecretStorage          2.3.1                \n",
      "Send2Trash             1.5.0                \n",
      "service-identity       18.1.0               \n",
      "setuptools             45.2.0               \n",
      "simplejson             3.16.0               \n",
      "six                    1.14.0               \n",
      "SQLAlchemy             1.3.22               \n",
      "ssh-import-id          5.10                 \n",
      "systemd-python         234                  \n",
      "terminado              0.9.1                \n",
      "testpath               0.4.4                \n",
      "tornado                6.1                  \n",
      "traitlets              5.0.5                \n",
      "ttystatus              0.38                 \n",
      "Twisted                18.9.0               \n",
      "ubuntu-advantage-tools 20.3                 \n",
      "ufw                    0.36                 \n",
      "unattended-upgrades    0.1                  \n",
      "urllib3                1.25.8               \n",
      "wadllib                1.3.3                \n",
      "wcwidth                0.2.5                \n",
      "webencodings           0.5.1                \n",
      "wheel                  0.34.2               \n",
      "zipp                   1.0.0                \n",
      "zope.interface         4.7.1                \n",
      "Note: you may need to restart the kernel to use updated packages.\n"
     ]
    }
   ],
   "source": [
    "pip list"
   ]
  },
  {
   "cell_type": "code",
   "execution_count": null,
   "metadata": {},
   "outputs": [],
   "source": []
  }
 ],
 "metadata": {
  "kernelspec": {
   "display_name": "Python 3",
   "language": "python",
   "name": "python3"
  },
  "language_info": {
   "codemirror_mode": {
    "name": "ipython",
    "version": 3
   },
   "file_extension": ".py",
   "mimetype": "text/x-python",
   "name": "python",
   "nbconvert_exporter": "python",
   "pygments_lexer": "ipython3",
   "version": "3.8.5"
  }
 },
 "nbformat": 4,
 "nbformat_minor": 4
}
